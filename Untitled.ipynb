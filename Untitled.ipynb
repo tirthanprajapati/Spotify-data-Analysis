{
 "cells": [
  {
   "cell_type": "code",
   "execution_count": 1,
   "id": "322b7ab8",
   "metadata": {},
   "outputs": [],
   "source": [
    "#importing all the packages"
   ]
  },
  {
   "cell_type": "code",
   "execution_count": 2,
   "id": "05591d75",
   "metadata": {},
   "outputs": [],
   "source": [
    "import numpy as np\n",
    "from statsmodels.tsa.api import VAR\n",
    "import pandas as pd\n",
    "import matplotlib.pyplot as plt\n",
    "import seaborn as sns\n",
    "%matplotlib inline"
   ]
  },
  {
   "cell_type": "code",
   "execution_count": 3,
   "id": "19a10d2a",
   "metadata": {},
   "outputs": [],
   "source": [
    "db = pd.read_csv('Datset/charts.csv')"
   ]
  },
  {
   "cell_type": "code",
   "execution_count": 4,
   "id": "bdae2ec1",
   "metadata": {},
   "outputs": [
    {
     "data": {
      "text/plain": [
       "(26173514, 9)"
      ]
     },
     "execution_count": 4,
     "metadata": {},
     "output_type": "execute_result"
    }
   ],
   "source": [
    "db.shape"
   ]
  },
  {
   "cell_type": "code",
   "execution_count": 5,
   "id": "932284d7",
   "metadata": {},
   "outputs": [
    {
     "data": {
      "text/html": [
       "<div>\n",
       "<style scoped>\n",
       "    .dataframe tbody tr th:only-of-type {\n",
       "        vertical-align: middle;\n",
       "    }\n",
       "\n",
       "    .dataframe tbody tr th {\n",
       "        vertical-align: top;\n",
       "    }\n",
       "\n",
       "    .dataframe thead th {\n",
       "        text-align: right;\n",
       "    }\n",
       "</style>\n",
       "<table border=\"1\" class=\"dataframe\">\n",
       "  <thead>\n",
       "    <tr style=\"text-align: right;\">\n",
       "      <th></th>\n",
       "      <th>title</th>\n",
       "      <th>rank</th>\n",
       "      <th>date</th>\n",
       "      <th>artist</th>\n",
       "      <th>url</th>\n",
       "      <th>region</th>\n",
       "      <th>chart</th>\n",
       "      <th>trend</th>\n",
       "      <th>streams</th>\n",
       "    </tr>\n",
       "  </thead>\n",
       "  <tbody>\n",
       "    <tr>\n",
       "      <th>0</th>\n",
       "      <td>Chantaje (feat. Maluma)</td>\n",
       "      <td>1</td>\n",
       "      <td>2017-01-01</td>\n",
       "      <td>Shakira</td>\n",
       "      <td>https://open.spotify.com/track/6mICuAdrwEjh6Y6...</td>\n",
       "      <td>Argentina</td>\n",
       "      <td>top200</td>\n",
       "      <td>SAME_POSITION</td>\n",
       "      <td>253019.0</td>\n",
       "    </tr>\n",
       "    <tr>\n",
       "      <th>1</th>\n",
       "      <td>Vente Pa' Ca (feat. Maluma)</td>\n",
       "      <td>2</td>\n",
       "      <td>2017-01-01</td>\n",
       "      <td>Ricky Martin</td>\n",
       "      <td>https://open.spotify.com/track/7DM4BPaS7uofFul...</td>\n",
       "      <td>Argentina</td>\n",
       "      <td>top200</td>\n",
       "      <td>MOVE_UP</td>\n",
       "      <td>223988.0</td>\n",
       "    </tr>\n",
       "    <tr>\n",
       "      <th>2</th>\n",
       "      <td>Reggaetón Lento (Bailemos)</td>\n",
       "      <td>3</td>\n",
       "      <td>2017-01-01</td>\n",
       "      <td>CNCO</td>\n",
       "      <td>https://open.spotify.com/track/3AEZUABDXNtecAO...</td>\n",
       "      <td>Argentina</td>\n",
       "      <td>top200</td>\n",
       "      <td>MOVE_DOWN</td>\n",
       "      <td>210943.0</td>\n",
       "    </tr>\n",
       "    <tr>\n",
       "      <th>3</th>\n",
       "      <td>Safari</td>\n",
       "      <td>4</td>\n",
       "      <td>2017-01-01</td>\n",
       "      <td>J Balvin, Pharrell Williams, BIA, Sky</td>\n",
       "      <td>https://open.spotify.com/track/6rQSrBHf7HlZjtc...</td>\n",
       "      <td>Argentina</td>\n",
       "      <td>top200</td>\n",
       "      <td>SAME_POSITION</td>\n",
       "      <td>173865.0</td>\n",
       "    </tr>\n",
       "    <tr>\n",
       "      <th>4</th>\n",
       "      <td>Shaky Shaky</td>\n",
       "      <td>5</td>\n",
       "      <td>2017-01-01</td>\n",
       "      <td>Daddy Yankee</td>\n",
       "      <td>https://open.spotify.com/track/58IL315gMSTD37D...</td>\n",
       "      <td>Argentina</td>\n",
       "      <td>top200</td>\n",
       "      <td>MOVE_UP</td>\n",
       "      <td>153956.0</td>\n",
       "    </tr>\n",
       "  </tbody>\n",
       "</table>\n",
       "</div>"
      ],
      "text/plain": [
       "                         title  rank        date  \\\n",
       "0      Chantaje (feat. Maluma)     1  2017-01-01   \n",
       "1  Vente Pa' Ca (feat. Maluma)     2  2017-01-01   \n",
       "2   Reggaetón Lento (Bailemos)     3  2017-01-01   \n",
       "3                       Safari     4  2017-01-01   \n",
       "4                  Shaky Shaky     5  2017-01-01   \n",
       "\n",
       "                                  artist  \\\n",
       "0                                Shakira   \n",
       "1                           Ricky Martin   \n",
       "2                                   CNCO   \n",
       "3  J Balvin, Pharrell Williams, BIA, Sky   \n",
       "4                           Daddy Yankee   \n",
       "\n",
       "                                                 url     region   chart  \\\n",
       "0  https://open.spotify.com/track/6mICuAdrwEjh6Y6...  Argentina  top200   \n",
       "1  https://open.spotify.com/track/7DM4BPaS7uofFul...  Argentina  top200   \n",
       "2  https://open.spotify.com/track/3AEZUABDXNtecAO...  Argentina  top200   \n",
       "3  https://open.spotify.com/track/6rQSrBHf7HlZjtc...  Argentina  top200   \n",
       "4  https://open.spotify.com/track/58IL315gMSTD37D...  Argentina  top200   \n",
       "\n",
       "           trend   streams  \n",
       "0  SAME_POSITION  253019.0  \n",
       "1        MOVE_UP  223988.0  \n",
       "2      MOVE_DOWN  210943.0  \n",
       "3  SAME_POSITION  173865.0  \n",
       "4        MOVE_UP  153956.0  "
      ]
     },
     "execution_count": 5,
     "metadata": {},
     "output_type": "execute_result"
    }
   ],
   "source": [
    "db.head()"
   ]
  },
  {
   "cell_type": "code",
   "execution_count": 6,
   "id": "b1b6c7b3",
   "metadata": {},
   "outputs": [],
   "source": [
    "#Data Analysis starts"
   ]
  },
  {
   "cell_type": "code",
   "execution_count": 7,
   "id": "a489eba7",
   "metadata": {},
   "outputs": [
    {
     "data": {
      "text/plain": [
       "Ed Sheeran                                                                 387917\n",
       "Billie Eilish                                                              251825\n",
       "Post Malone                                                                211272\n",
       "Bad Bunny                                                                  203403\n",
       "Ariana Grande                                                              189914\n",
       "                                                                            ...  \n",
       "Ezhel, Patron, Anıl Piyancı, Sansar Salvo, Allame, Pit10, Beta, Kamufle         1\n",
       "Lips, George Mason, Rose McIver, Kimbra                                         1\n",
       "Joakim Kleven, KOH                                                              1\n",
       "Lazyloxy, Maiyarap, OG-ANIC, UrboyTJ                                            1\n",
       "Luna 99                                                                         1\n",
       "Name: artist, Length: 96156, dtype: int64"
      ]
     },
     "execution_count": 7,
     "metadata": {},
     "output_type": "execute_result"
    }
   ],
   "source": [
    "db[\"artist\"].value_counts()"
   ]
  },
  {
   "cell_type": "code",
   "execution_count": 8,
   "id": "64ab52d2",
   "metadata": {},
   "outputs": [
    {
     "data": {
      "text/plain": [
       "Argentina        455308\n",
       "United States    455057\n",
       "Austria          454593\n",
       "Brazil           454439\n",
       "Australia        453103\n",
       "                  ...  \n",
       "Ukraine          127544\n",
       "Russia           126837\n",
       "Luxembourg        98053\n",
       "Andorra           79592\n",
       "South Korea       76276\n",
       "Name: region, Length: 70, dtype: int64"
      ]
     },
     "execution_count": 8,
     "metadata": {},
     "output_type": "execute_result"
    }
   ],
   "source": [
    "db[\"region\"].value_counts()"
   ]
  },
  {
   "cell_type": "code",
   "execution_count": 9,
   "id": "7e142979",
   "metadata": {},
   "outputs": [
    {
     "data": {
      "text/plain": [
       "10621"
      ]
     },
     "execution_count": 9,
     "metadata": {},
     "output_type": "execute_result"
    }
   ],
   "source": [
    "db[\"title\"].value_counts()[\"Chantaje (feat. Maluma)\"]"
   ]
  },
  {
   "cell_type": "code",
   "execution_count": 10,
   "id": "5d30687e",
   "metadata": {},
   "outputs": [
    {
     "data": {
      "text/plain": [
       "8204"
      ]
     },
     "execution_count": 10,
     "metadata": {},
     "output_type": "execute_result"
    }
   ],
   "source": [
    "db[\"title\"].value_counts()[\"Chantaje (feat. Maluma)\"] & db[\"region\"].value_counts()[\"Argentina\"]"
   ]
  },
  {
   "cell_type": "code",
   "execution_count": 11,
   "id": "ed30ecba",
   "metadata": {},
   "outputs": [
    {
     "data": {
      "text/plain": [
       "array(['Argentina', 'Australia', 'Brazil', 'Austria', 'Belgium',\n",
       "       'Colombia', 'Bolivia', 'Denmark', 'Bulgaria', 'Canada', 'Chile',\n",
       "       'Costa Rica', 'Czech Republic', 'Finland', 'Dominican Republic',\n",
       "       'Ecuador', 'El Salvador', 'Estonia', 'France', 'Germany', 'Global',\n",
       "       'Greece', 'Guatemala', 'Honduras', 'Hong Kong', 'Hungary',\n",
       "       'Iceland', 'Indonesia', 'Ireland', 'Italy', 'Japan', 'Latvia',\n",
       "       'Lithuania', 'Malaysia', 'Luxembourg', 'Mexico', 'Netherlands',\n",
       "       'New Zealand', 'Nicaragua', 'Norway', 'Panama', 'Paraguay', 'Peru',\n",
       "       'Philippines', 'Poland', 'Portugal', 'Singapore', 'Spain',\n",
       "       'Slovakia', 'Sweden', 'Taiwan', 'Switzerland', 'Turkey',\n",
       "       'United Kingdom', 'United States', 'Uruguay', 'Thailand',\n",
       "       'Andorra', 'Romania', 'Vietnam', 'Egypt', 'India', 'Israel',\n",
       "       'Morocco', 'Saudi Arabia', 'South Africa', 'United Arab Emirates',\n",
       "       'Russia', 'Ukraine', 'South Korea'], dtype=object)"
      ]
     },
     "execution_count": 11,
     "metadata": {},
     "output_type": "execute_result"
    }
   ],
   "source": [
    "db['region'].unique()"
   ]
  },
  {
   "cell_type": "code",
   "execution_count": 12,
   "id": "8d4033fa",
   "metadata": {},
   "outputs": [],
   "source": [
    "db['date']=pd.to_datetime(db['date'])"
   ]
  },
  {
   "cell_type": "code",
   "execution_count": 13,
   "id": "b557ee38",
   "metadata": {},
   "outputs": [],
   "source": [
    "db['year']=db['date'].dt.year"
   ]
  },
  {
   "cell_type": "code",
   "execution_count": 14,
   "id": "bc64e98a",
   "metadata": {},
   "outputs": [],
   "source": [
    "db['month']=db['date'].dt.month"
   ]
  },
  {
   "cell_type": "code",
   "execution_count": 15,
   "id": "919bfadd",
   "metadata": {},
   "outputs": [
    {
     "data": {
      "text/html": [
       "<div>\n",
       "<style scoped>\n",
       "    .dataframe tbody tr th:only-of-type {\n",
       "        vertical-align: middle;\n",
       "    }\n",
       "\n",
       "    .dataframe tbody tr th {\n",
       "        vertical-align: top;\n",
       "    }\n",
       "\n",
       "    .dataframe thead th {\n",
       "        text-align: right;\n",
       "    }\n",
       "</style>\n",
       "<table border=\"1\" class=\"dataframe\">\n",
       "  <thead>\n",
       "    <tr style=\"text-align: right;\">\n",
       "      <th></th>\n",
       "      <th>title</th>\n",
       "      <th>rank</th>\n",
       "      <th>date</th>\n",
       "      <th>artist</th>\n",
       "      <th>url</th>\n",
       "      <th>region</th>\n",
       "      <th>chart</th>\n",
       "      <th>trend</th>\n",
       "      <th>streams</th>\n",
       "      <th>year</th>\n",
       "      <th>month</th>\n",
       "    </tr>\n",
       "  </thead>\n",
       "  <tbody>\n",
       "    <tr>\n",
       "      <th>0</th>\n",
       "      <td>Chantaje (feat. Maluma)</td>\n",
       "      <td>1</td>\n",
       "      <td>2017-01-01</td>\n",
       "      <td>Shakira</td>\n",
       "      <td>https://open.spotify.com/track/6mICuAdrwEjh6Y6...</td>\n",
       "      <td>Argentina</td>\n",
       "      <td>top200</td>\n",
       "      <td>SAME_POSITION</td>\n",
       "      <td>253019.0</td>\n",
       "      <td>2017</td>\n",
       "      <td>1</td>\n",
       "    </tr>\n",
       "    <tr>\n",
       "      <th>1</th>\n",
       "      <td>Vente Pa' Ca (feat. Maluma)</td>\n",
       "      <td>2</td>\n",
       "      <td>2017-01-01</td>\n",
       "      <td>Ricky Martin</td>\n",
       "      <td>https://open.spotify.com/track/7DM4BPaS7uofFul...</td>\n",
       "      <td>Argentina</td>\n",
       "      <td>top200</td>\n",
       "      <td>MOVE_UP</td>\n",
       "      <td>223988.0</td>\n",
       "      <td>2017</td>\n",
       "      <td>1</td>\n",
       "    </tr>\n",
       "    <tr>\n",
       "      <th>2</th>\n",
       "      <td>Reggaetón Lento (Bailemos)</td>\n",
       "      <td>3</td>\n",
       "      <td>2017-01-01</td>\n",
       "      <td>CNCO</td>\n",
       "      <td>https://open.spotify.com/track/3AEZUABDXNtecAO...</td>\n",
       "      <td>Argentina</td>\n",
       "      <td>top200</td>\n",
       "      <td>MOVE_DOWN</td>\n",
       "      <td>210943.0</td>\n",
       "      <td>2017</td>\n",
       "      <td>1</td>\n",
       "    </tr>\n",
       "    <tr>\n",
       "      <th>3</th>\n",
       "      <td>Safari</td>\n",
       "      <td>4</td>\n",
       "      <td>2017-01-01</td>\n",
       "      <td>J Balvin, Pharrell Williams, BIA, Sky</td>\n",
       "      <td>https://open.spotify.com/track/6rQSrBHf7HlZjtc...</td>\n",
       "      <td>Argentina</td>\n",
       "      <td>top200</td>\n",
       "      <td>SAME_POSITION</td>\n",
       "      <td>173865.0</td>\n",
       "      <td>2017</td>\n",
       "      <td>1</td>\n",
       "    </tr>\n",
       "    <tr>\n",
       "      <th>4</th>\n",
       "      <td>Shaky Shaky</td>\n",
       "      <td>5</td>\n",
       "      <td>2017-01-01</td>\n",
       "      <td>Daddy Yankee</td>\n",
       "      <td>https://open.spotify.com/track/58IL315gMSTD37D...</td>\n",
       "      <td>Argentina</td>\n",
       "      <td>top200</td>\n",
       "      <td>MOVE_UP</td>\n",
       "      <td>153956.0</td>\n",
       "      <td>2017</td>\n",
       "      <td>1</td>\n",
       "    </tr>\n",
       "  </tbody>\n",
       "</table>\n",
       "</div>"
      ],
      "text/plain": [
       "                         title  rank       date  \\\n",
       "0      Chantaje (feat. Maluma)     1 2017-01-01   \n",
       "1  Vente Pa' Ca (feat. Maluma)     2 2017-01-01   \n",
       "2   Reggaetón Lento (Bailemos)     3 2017-01-01   \n",
       "3                       Safari     4 2017-01-01   \n",
       "4                  Shaky Shaky     5 2017-01-01   \n",
       "\n",
       "                                  artist  \\\n",
       "0                                Shakira   \n",
       "1                           Ricky Martin   \n",
       "2                                   CNCO   \n",
       "3  J Balvin, Pharrell Williams, BIA, Sky   \n",
       "4                           Daddy Yankee   \n",
       "\n",
       "                                                 url     region   chart  \\\n",
       "0  https://open.spotify.com/track/6mICuAdrwEjh6Y6...  Argentina  top200   \n",
       "1  https://open.spotify.com/track/7DM4BPaS7uofFul...  Argentina  top200   \n",
       "2  https://open.spotify.com/track/3AEZUABDXNtecAO...  Argentina  top200   \n",
       "3  https://open.spotify.com/track/6rQSrBHf7HlZjtc...  Argentina  top200   \n",
       "4  https://open.spotify.com/track/58IL315gMSTD37D...  Argentina  top200   \n",
       "\n",
       "           trend   streams  year  month  \n",
       "0  SAME_POSITION  253019.0  2017      1  \n",
       "1        MOVE_UP  223988.0  2017      1  \n",
       "2      MOVE_DOWN  210943.0  2017      1  \n",
       "3  SAME_POSITION  173865.0  2017      1  \n",
       "4        MOVE_UP  153956.0  2017      1  "
      ]
     },
     "execution_count": 15,
     "metadata": {},
     "output_type": "execute_result"
    }
   ],
   "source": [
    "db.head()"
   ]
  },
  {
   "cell_type": "code",
   "execution_count": 16,
   "id": "46531b7b",
   "metadata": {},
   "outputs": [
    {
     "data": {
      "text/plain": [
       "(26173514, 11)"
      ]
     },
     "execution_count": 16,
     "metadata": {},
     "output_type": "execute_result"
    }
   ],
   "source": [
    "db.shape"
   ]
  },
  {
   "cell_type": "code",
   "execution_count": 17,
   "id": "cc61fb70",
   "metadata": {},
   "outputs": [],
   "source": [
    "totalSum=db.groupby(['year','region'])['streams'].sum()\n",
    "topArtist=db.groupby(['year','artist'])['streams'].sum()\n",
    "topArtistPerYear=db.groupby(['year','region','artist'])['streams'].sum()\n",
    "topSongsGlobal=db.groupby(['title'])['streams'].sum()"
   ]
  },
  {
   "cell_type": "code",
   "execution_count": 18,
   "id": "b5f1f4f9",
   "metadata": {},
   "outputs": [],
   "source": [
    "#year and region wise hours streamed for artist (1st Catagory)"
   ]
  },
  {
   "cell_type": "code",
   "execution_count": 19,
   "id": "809f31b9",
   "metadata": {},
   "outputs": [],
   "source": [
    "dbtopartistperyear = pd.DataFrame(topArtistPerYear)"
   ]
  },
  {
   "cell_type": "code",
   "execution_count": 20,
   "id": "d852fb20",
   "metadata": {},
   "outputs": [],
   "source": [
    "dbtopartistperyear.to_csv('Datset/dbtopartistperyear.csv')"
   ]
  },
  {
   "cell_type": "code",
   "execution_count": 21,
   "id": "a5731ef2",
   "metadata": {},
   "outputs": [],
   "source": [
    "topay = pd.read_csv('Datset/dbtopartistperyear.csv')"
   ]
  },
  {
   "cell_type": "code",
   "execution_count": 22,
   "id": "52cd8475",
   "metadata": {},
   "outputs": [
    {
     "name": "stdout",
     "output_type": "stream",
     "text": [
      "Index(['year', 'region', 'artist', 'streams'], dtype='object')\n"
     ]
    }
   ],
   "source": [
    "print(topay.columns)"
   ]
  },
  {
   "cell_type": "code",
   "execution_count": 23,
   "id": "14257b2c",
   "metadata": {},
   "outputs": [
    {
     "data": {
      "text/html": [
       "<div>\n",
       "<style scoped>\n",
       "    .dataframe tbody tr th:only-of-type {\n",
       "        vertical-align: middle;\n",
       "    }\n",
       "\n",
       "    .dataframe tbody tr th {\n",
       "        vertical-align: top;\n",
       "    }\n",
       "\n",
       "    .dataframe thead th {\n",
       "        text-align: right;\n",
       "    }\n",
       "</style>\n",
       "<table border=\"1\" class=\"dataframe\">\n",
       "  <thead>\n",
       "    <tr style=\"text-align: right;\">\n",
       "      <th></th>\n",
       "      <th>year</th>\n",
       "      <th>region</th>\n",
       "      <th>artist</th>\n",
       "      <th>streams</th>\n",
       "    </tr>\n",
       "  </thead>\n",
       "  <tbody>\n",
       "    <tr>\n",
       "      <th>0</th>\n",
       "      <td>2017</td>\n",
       "      <td>Andorra</td>\n",
       "      <td>08001</td>\n",
       "      <td>0.0</td>\n",
       "    </tr>\n",
       "    <tr>\n",
       "      <th>1</th>\n",
       "      <td>2017</td>\n",
       "      <td>Andorra</td>\n",
       "      <td>10,000 Maniacs</td>\n",
       "      <td>0.0</td>\n",
       "    </tr>\n",
       "    <tr>\n",
       "      <th>2</th>\n",
       "      <td>2017</td>\n",
       "      <td>Andorra</td>\n",
       "      <td>21 Savage, Offset, Metro Boomin, Quavo</td>\n",
       "      <td>0.0</td>\n",
       "    </tr>\n",
       "    <tr>\n",
       "      <th>3</th>\n",
       "      <td>2017</td>\n",
       "      <td>Andorra</td>\n",
       "      <td>2Pac</td>\n",
       "      <td>0.0</td>\n",
       "    </tr>\n",
       "    <tr>\n",
       "      <th>4</th>\n",
       "      <td>2017</td>\n",
       "      <td>Andorra</td>\n",
       "      <td>3 Doors Down</td>\n",
       "      <td>0.0</td>\n",
       "    </tr>\n",
       "    <tr>\n",
       "      <th>...</th>\n",
       "      <td>...</td>\n",
       "      <td>...</td>\n",
       "      <td>...</td>\n",
       "      <td>...</td>\n",
       "    </tr>\n",
       "    <tr>\n",
       "      <th>422918</th>\n",
       "      <td>2021</td>\n",
       "      <td>Vietnam</td>\n",
       "      <td>程jiajia</td>\n",
       "      <td>0.0</td>\n",
       "    </tr>\n",
       "    <tr>\n",
       "      <th>422919</th>\n",
       "      <td>2021</td>\n",
       "      <td>Vietnam</td>\n",
       "      <td>程响</td>\n",
       "      <td>0.0</td>\n",
       "    </tr>\n",
       "    <tr>\n",
       "      <th>422920</th>\n",
       "      <td>2021</td>\n",
       "      <td>Vietnam</td>\n",
       "      <td>米卡</td>\n",
       "      <td>0.0</td>\n",
       "    </tr>\n",
       "    <tr>\n",
       "      <th>422921</th>\n",
       "      <td>2021</td>\n",
       "      <td>Vietnam</td>\n",
       "      <td>米卡, 高卿尘, 吴宇恒, 薛八一, 张星特, 曾涵江, 鞠婧祎</td>\n",
       "      <td>0.0</td>\n",
       "    </tr>\n",
       "    <tr>\n",
       "      <th>422922</th>\n",
       "      <td>2021</td>\n",
       "      <td>Vietnam</td>\n",
       "      <td>달콤한꿈</td>\n",
       "      <td>0.0</td>\n",
       "    </tr>\n",
       "  </tbody>\n",
       "</table>\n",
       "<p>422923 rows × 4 columns</p>\n",
       "</div>"
      ],
      "text/plain": [
       "        year   region                                  artist  streams\n",
       "0       2017  Andorra                                   08001      0.0\n",
       "1       2017  Andorra                          10,000 Maniacs      0.0\n",
       "2       2017  Andorra  21 Savage, Offset, Metro Boomin, Quavo      0.0\n",
       "3       2017  Andorra                                    2Pac      0.0\n",
       "4       2017  Andorra                            3 Doors Down      0.0\n",
       "...      ...      ...                                     ...      ...\n",
       "422918  2021  Vietnam                                 程jiajia      0.0\n",
       "422919  2021  Vietnam                                      程响      0.0\n",
       "422920  2021  Vietnam                                      米卡      0.0\n",
       "422921  2021  Vietnam        米卡, 高卿尘, 吴宇恒, 薛八一, 张星特, 曾涵江, 鞠婧祎      0.0\n",
       "422922  2021  Vietnam                                    달콤한꿈      0.0\n",
       "\n",
       "[422923 rows x 4 columns]"
      ]
     },
     "execution_count": 23,
     "metadata": {},
     "output_type": "execute_result"
    }
   ],
   "source": [
    "topay"
   ]
  },
  {
   "cell_type": "code",
   "execution_count": 24,
   "id": "8c970107",
   "metadata": {},
   "outputs": [],
   "source": [
    "#year wise hours streamed for each region (2nd Catagory)"
   ]
  },
  {
   "cell_type": "code",
   "execution_count": 25,
   "id": "18cc1055",
   "metadata": {},
   "outputs": [],
   "source": [
    "dbsumry = pd.DataFrame(totalSum)"
   ]
  },
  {
   "cell_type": "code",
   "execution_count": 26,
   "id": "a865920c",
   "metadata": {},
   "outputs": [],
   "source": [
    "dbsumry.to_csv('Datset/dbsumry.csv')"
   ]
  },
  {
   "cell_type": "code",
   "execution_count": 27,
   "id": "f6f3f0ad",
   "metadata": {},
   "outputs": [],
   "source": [
    "smury = pd.read_csv('Datset/dbsumry.csv')"
   ]
  },
  {
   "cell_type": "code",
   "execution_count": 28,
   "id": "d0fbe05c",
   "metadata": {},
   "outputs": [
    {
     "data": {
      "text/html": [
       "<div>\n",
       "<style scoped>\n",
       "    .dataframe tbody tr th:only-of-type {\n",
       "        vertical-align: middle;\n",
       "    }\n",
       "\n",
       "    .dataframe tbody tr th {\n",
       "        vertical-align: top;\n",
       "    }\n",
       "\n",
       "    .dataframe thead th {\n",
       "        text-align: right;\n",
       "    }\n",
       "</style>\n",
       "<table border=\"1\" class=\"dataframe\">\n",
       "  <thead>\n",
       "    <tr style=\"text-align: right;\">\n",
       "      <th></th>\n",
       "      <th>year</th>\n",
       "      <th>region</th>\n",
       "      <th>streams</th>\n",
       "    </tr>\n",
       "  </thead>\n",
       "  <tbody>\n",
       "    <tr>\n",
       "      <th>0</th>\n",
       "      <td>2017</td>\n",
       "      <td>Andorra</td>\n",
       "      <td>0.000000e+00</td>\n",
       "    </tr>\n",
       "    <tr>\n",
       "      <th>1</th>\n",
       "      <td>2017</td>\n",
       "      <td>Argentina</td>\n",
       "      <td>2.687571e+09</td>\n",
       "    </tr>\n",
       "    <tr>\n",
       "      <th>2</th>\n",
       "      <td>2017</td>\n",
       "      <td>Australia</td>\n",
       "      <td>3.283499e+09</td>\n",
       "    </tr>\n",
       "    <tr>\n",
       "      <th>3</th>\n",
       "      <td>2017</td>\n",
       "      <td>Austria</td>\n",
       "      <td>3.338926e+08</td>\n",
       "    </tr>\n",
       "    <tr>\n",
       "      <th>4</th>\n",
       "      <td>2017</td>\n",
       "      <td>Belgium</td>\n",
       "      <td>5.441408e+08</td>\n",
       "    </tr>\n",
       "    <tr>\n",
       "      <th>...</th>\n",
       "      <td>...</td>\n",
       "      <td>...</td>\n",
       "      <td>...</td>\n",
       "    </tr>\n",
       "    <tr>\n",
       "      <th>325</th>\n",
       "      <td>2021</td>\n",
       "      <td>United Arab Emirates</td>\n",
       "      <td>1.636351e+08</td>\n",
       "    </tr>\n",
       "    <tr>\n",
       "      <th>326</th>\n",
       "      <td>2021</td>\n",
       "      <td>United Kingdom</td>\n",
       "      <td>6.563064e+09</td>\n",
       "    </tr>\n",
       "    <tr>\n",
       "      <th>327</th>\n",
       "      <td>2021</td>\n",
       "      <td>United States</td>\n",
       "      <td>2.709611e+10</td>\n",
       "    </tr>\n",
       "    <tr>\n",
       "      <th>328</th>\n",
       "      <td>2021</td>\n",
       "      <td>Uruguay</td>\n",
       "      <td>3.314410e+08</td>\n",
       "    </tr>\n",
       "    <tr>\n",
       "      <th>329</th>\n",
       "      <td>2021</td>\n",
       "      <td>Vietnam</td>\n",
       "      <td>6.143772e+08</td>\n",
       "    </tr>\n",
       "  </tbody>\n",
       "</table>\n",
       "<p>330 rows × 3 columns</p>\n",
       "</div>"
      ],
      "text/plain": [
       "     year                region       streams\n",
       "0    2017               Andorra  0.000000e+00\n",
       "1    2017             Argentina  2.687571e+09\n",
       "2    2017             Australia  3.283499e+09\n",
       "3    2017               Austria  3.338926e+08\n",
       "4    2017               Belgium  5.441408e+08\n",
       "..    ...                   ...           ...\n",
       "325  2021  United Arab Emirates  1.636351e+08\n",
       "326  2021        United Kingdom  6.563064e+09\n",
       "327  2021         United States  2.709611e+10\n",
       "328  2021               Uruguay  3.314410e+08\n",
       "329  2021               Vietnam  6.143772e+08\n",
       "\n",
       "[330 rows x 3 columns]"
      ]
     },
     "execution_count": 28,
     "metadata": {},
     "output_type": "execute_result"
    }
   ],
   "source": [
    "smury"
   ]
  },
  {
   "cell_type": "code",
   "execution_count": 29,
   "id": "eab8d9d1",
   "metadata": {},
   "outputs": [],
   "source": [
    "#top artist each year (3rd Catagory)"
   ]
  },
  {
   "cell_type": "code",
   "execution_count": 30,
   "id": "1c8c5b69",
   "metadata": {},
   "outputs": [],
   "source": [
    "dbtopa = pd.DataFrame(topArtist)"
   ]
  },
  {
   "cell_type": "code",
   "execution_count": 31,
   "id": "280e6220",
   "metadata": {},
   "outputs": [],
   "source": [
    "dbtopa.to_csv('Datset/dbtopa.csv')"
   ]
  },
  {
   "cell_type": "code",
   "execution_count": 32,
   "id": "cb2a94ad",
   "metadata": {},
   "outputs": [],
   "source": [
    "topa = pd.read_csv('Datset/dbtopa.csv')"
   ]
  },
  {
   "cell_type": "code",
   "execution_count": 33,
   "id": "d43d96f4",
   "metadata": {},
   "outputs": [
    {
     "data": {
      "text/html": [
       "<div>\n",
       "<style scoped>\n",
       "    .dataframe tbody tr th:only-of-type {\n",
       "        vertical-align: middle;\n",
       "    }\n",
       "\n",
       "    .dataframe tbody tr th {\n",
       "        vertical-align: top;\n",
       "    }\n",
       "\n",
       "    .dataframe thead th {\n",
       "        text-align: right;\n",
       "    }\n",
       "</style>\n",
       "<table border=\"1\" class=\"dataframe\">\n",
       "  <thead>\n",
       "    <tr style=\"text-align: right;\">\n",
       "      <th></th>\n",
       "      <th>year</th>\n",
       "      <th>artist</th>\n",
       "      <th>streams</th>\n",
       "    </tr>\n",
       "  </thead>\n",
       "  <tbody>\n",
       "    <tr>\n",
       "      <th>0</th>\n",
       "      <td>2017</td>\n",
       "      <td>!!!</td>\n",
       "      <td>0.0</td>\n",
       "    </tr>\n",
       "    <tr>\n",
       "      <th>1</th>\n",
       "      <td>2017</td>\n",
       "      <td>!!!, Lea Lea</td>\n",
       "      <td>0.0</td>\n",
       "    </tr>\n",
       "    <tr>\n",
       "      <th>2</th>\n",
       "      <td>2017</td>\n",
       "      <td>#90s Update</td>\n",
       "      <td>0.0</td>\n",
       "    </tr>\n",
       "    <tr>\n",
       "      <th>3</th>\n",
       "      <td>2017</td>\n",
       "      <td>#JPTH, Juha Pekka Tapani Heikkinen JA NIIN EDE...</td>\n",
       "      <td>0.0</td>\n",
       "    </tr>\n",
       "    <tr>\n",
       "      <th>4</th>\n",
       "      <td>2017</td>\n",
       "      <td>#Klasse, Kuselofte</td>\n",
       "      <td>0.0</td>\n",
       "    </tr>\n",
       "    <tr>\n",
       "      <th>...</th>\n",
       "      <td>...</td>\n",
       "      <td>...</td>\n",
       "      <td>...</td>\n",
       "    </tr>\n",
       "    <tr>\n",
       "      <th>137737</th>\n",
       "      <td>2021</td>\n",
       "      <td>달콤한꿈</td>\n",
       "      <td>0.0</td>\n",
       "    </tr>\n",
       "    <tr>\n",
       "      <th>137738</th>\n",
       "      <td>2021</td>\n",
       "      <td>데이먼스 이어 Damons year</td>\n",
       "      <td>0.0</td>\n",
       "    </tr>\n",
       "    <tr>\n",
       "      <th>137739</th>\n",
       "      <td>2021</td>\n",
       "      <td>도마 DOMA</td>\n",
       "      <td>0.0</td>\n",
       "    </tr>\n",
       "    <tr>\n",
       "      <th>137740</th>\n",
       "      <td>2021</td>\n",
       "      <td>레트로봇 RetroBot</td>\n",
       "      <td>0.0</td>\n",
       "    </tr>\n",
       "    <tr>\n",
       "      <th>137741</th>\n",
       "      <td>2021</td>\n",
       "      <td>이아람</td>\n",
       "      <td>12951.0</td>\n",
       "    </tr>\n",
       "  </tbody>\n",
       "</table>\n",
       "<p>137742 rows × 3 columns</p>\n",
       "</div>"
      ],
      "text/plain": [
       "        year                                             artist  streams\n",
       "0       2017                                                !!!      0.0\n",
       "1       2017                                       !!!, Lea Lea      0.0\n",
       "2       2017                                        #90s Update      0.0\n",
       "3       2017  #JPTH, Juha Pekka Tapani Heikkinen JA NIIN EDE...      0.0\n",
       "4       2017                                 #Klasse, Kuselofte      0.0\n",
       "...      ...                                                ...      ...\n",
       "137737  2021                                               달콤한꿈      0.0\n",
       "137738  2021                                데이먼스 이어 Damons year      0.0\n",
       "137739  2021                                            도마 DOMA      0.0\n",
       "137740  2021                                      레트로봇 RetroBot      0.0\n",
       "137741  2021                                                이아람  12951.0\n",
       "\n",
       "[137742 rows x 3 columns]"
      ]
     },
     "execution_count": 33,
     "metadata": {},
     "output_type": "execute_result"
    }
   ],
   "source": [
    "topa"
   ]
  },
  {
   "cell_type": "code",
   "execution_count": 34,
   "id": "da892a05",
   "metadata": {},
   "outputs": [],
   "source": [
    "#top songs of all time (4th Catagory)"
   ]
  },
  {
   "cell_type": "code",
   "execution_count": 35,
   "id": "136707b2",
   "metadata": {},
   "outputs": [],
   "source": [
    "dbtops = pd.DataFrame(topSongsGlobal)"
   ]
  },
  {
   "cell_type": "code",
   "execution_count": 36,
   "id": "d5576496",
   "metadata": {},
   "outputs": [],
   "source": [
    "dbtops.to_csv('Datset/dbtops.csv')"
   ]
  },
  {
   "cell_type": "code",
   "execution_count": 37,
   "id": "74e4da6e",
   "metadata": {},
   "outputs": [],
   "source": [
    "topsongs = pd.read_csv('Datset/dbtops.csv')"
   ]
  },
  {
   "cell_type": "code",
   "execution_count": 38,
   "id": "caad35de",
   "metadata": {},
   "outputs": [
    {
     "data": {
      "text/html": [
       "<div>\n",
       "<style scoped>\n",
       "    .dataframe tbody tr th:only-of-type {\n",
       "        vertical-align: middle;\n",
       "    }\n",
       "\n",
       "    .dataframe tbody tr th {\n",
       "        vertical-align: top;\n",
       "    }\n",
       "\n",
       "    .dataframe thead th {\n",
       "        text-align: right;\n",
       "    }\n",
       "</style>\n",
       "<table border=\"1\" class=\"dataframe\">\n",
       "  <thead>\n",
       "    <tr style=\"text-align: right;\">\n",
       "      <th></th>\n",
       "      <th>title</th>\n",
       "      <th>streams</th>\n",
       "    </tr>\n",
       "  </thead>\n",
       "  <tbody>\n",
       "    <tr>\n",
       "      <th>0</th>\n",
       "      <td>!</td>\n",
       "      <td>5760598.0</td>\n",
       "    </tr>\n",
       "    <tr>\n",
       "      <th>1</th>\n",
       "      <td>!!!</td>\n",
       "      <td>0.0</td>\n",
       "    </tr>\n",
       "    <tr>\n",
       "      <th>2</th>\n",
       "      <td>!I'll Be Back!</td>\n",
       "      <td>36343.0</td>\n",
       "    </tr>\n",
       "    <tr>\n",
       "      <th>3</th>\n",
       "      <td>\"42\" - From SR3MM</td>\n",
       "      <td>297731.0</td>\n",
       "    </tr>\n",
       "    <tr>\n",
       "      <th>4</th>\n",
       "      <td>\"99\"</td>\n",
       "      <td>0.0</td>\n",
       "    </tr>\n",
       "    <tr>\n",
       "      <th>...</th>\n",
       "      <td>...</td>\n",
       "      <td>...</td>\n",
       "    </tr>\n",
       "    <tr>\n",
       "      <th>164801</th>\n",
       "      <td>혼잣말 Talking to</td>\n",
       "      <td>0.0</td>\n",
       "    </tr>\n",
       "    <tr>\n",
       "      <th>164802</th>\n",
       "      <td>환상통 Only One You Need</td>\n",
       "      <td>0.0</td>\n",
       "    </tr>\n",
       "    <tr>\n",
       "      <th>164803</th>\n",
       "      <td>휴일 Lazy</td>\n",
       "      <td>0.0</td>\n",
       "    </tr>\n",
       "    <tr>\n",
       "      <th>164804</th>\n",
       "      <td>﻿Lay Down Your Blade</td>\n",
       "      <td>0.0</td>\n",
       "    </tr>\n",
       "    <tr>\n",
       "      <th>164805</th>\n",
       "      <td>🪐</td>\n",
       "      <td>31970.0</td>\n",
       "    </tr>\n",
       "  </tbody>\n",
       "</table>\n",
       "<p>164806 rows × 2 columns</p>\n",
       "</div>"
      ],
      "text/plain": [
       "                        title    streams\n",
       "0                           !  5760598.0\n",
       "1                         !!!        0.0\n",
       "2              !I'll Be Back!    36343.0\n",
       "3           \"42\" - From SR3MM   297731.0\n",
       "4                        \"99\"        0.0\n",
       "...                       ...        ...\n",
       "164801         혼잣말 Talking to        0.0\n",
       "164802  환상통 Only One You Need        0.0\n",
       "164803                휴일 Lazy        0.0\n",
       "164804   ﻿Lay Down Your Blade        0.0\n",
       "164805                      🪐    31970.0\n",
       "\n",
       "[164806 rows x 2 columns]"
      ]
     },
     "execution_count": 38,
     "metadata": {},
     "output_type": "execute_result"
    }
   ],
   "source": [
    "topsongs"
   ]
  },
  {
   "cell_type": "code",
   "execution_count": 39,
   "id": "3369b2d5",
   "metadata": {},
   "outputs": [],
   "source": [
    "#calculating total streams each year"
   ]
  },
  {
   "cell_type": "code",
   "execution_count": 40,
   "id": "d357c9dc",
   "metadata": {},
   "outputs": [],
   "source": [
    "totalStreams = db.groupby(['year'])['streams'].sum()"
   ]
  },
  {
   "cell_type": "code",
   "execution_count": 41,
   "id": "b0fd815f",
   "metadata": {},
   "outputs": [
    {
     "data": {
      "text/plain": [
       "year\n",
       "2017    1.744559e+11\n",
       "2018    2.052286e+11\n",
       "2019    2.334656e+11\n",
       "2020    2.533957e+11\n",
       "2021    2.564694e+11\n",
       "Name: streams, dtype: float64"
      ]
     },
     "execution_count": 41,
     "metadata": {},
     "output_type": "execute_result"
    }
   ],
   "source": [
    "totalStreams"
   ]
  },
  {
   "cell_type": "code",
   "execution_count": 42,
   "id": "c78ebd8e",
   "metadata": {
    "scrolled": false
   },
   "outputs": [
    {
     "data": {
      "image/png": "[encoded data removed]",
      "text/plain": [
       "<Figure size 640x480 with 1 Axes>"
      ]
     },
     "metadata": {},
     "output_type": "display_data"
    }
   ],
   "source": [
    "totalStreams.plot(kind = 'bar' , x='year',y='streams')\n",
    "plt.show()"
   ]
  }
 ],
 "metadata": {
  "kernelspec": {
   "display_name": "Python 3 (ipykernel)",
   "language": "python",
   "name": "python3"
  },
  "language_info": {
   "codemirror_mode": {
    "name": "ipython",
    "version": 3
   },
   "file_extension": ".py",
   "mimetype": "text/x-python",
   "name": "python",
   "nbconvert_exporter": "python",
   "pygments_lexer": "ipython3",
   "version": "3.10.8"
  }
 },
 "nbformat": 4,
 "nbformat_minor": 5
}
